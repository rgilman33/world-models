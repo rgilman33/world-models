{
 "cells": [
  {
   "cell_type": "markdown",
   "metadata": {
    "colab_type": "text",
    "id": "OfkWLABzPKE_"
   },
   "source": [
    "Deleting all stuff not essential for vae integration (sine experiments, etc)"
   ]
  },
  {
   "cell_type": "code",
   "execution_count": 1,
   "metadata": {
    "colab": {},
    "colab_type": "code",
    "id": "-ngStofCPz-H",
    "scrolled": true
   },
   "outputs": [
    {
     "name": "stderr",
     "output_type": "stream",
     "text": [
      "C:\\Users\\rugilman\\AppData\\Local\\Continuum\\anaconda3\\lib\\site-packages\\ipykernel_launcher.py:12: UserWarning: \n",
      "This call to matplotlib.use() has no effect because the backend has already\n",
      "been chosen; matplotlib.use() must be called *before* pylab, matplotlib.pyplot,\n",
      "or matplotlib.backends is imported for the first time.\n",
      "\n",
      "The backend was *originally* set to 'module://ipykernel.pylab.backend_inline' by the following code:\n",
      "  File \"C:\\Users\\rugilman\\AppData\\Local\\Continuum\\anaconda3\\lib\\runpy.py\", line 193, in _run_module_as_main\n",
      "    \"__main__\", mod_spec)\n",
      "  File \"C:\\Users\\rugilman\\AppData\\Local\\Continuum\\anaconda3\\lib\\runpy.py\", line 85, in _run_code\n",
      "    exec(code, run_globals)\n",
      "  File \"C:\\Users\\rugilman\\AppData\\Local\\Continuum\\anaconda3\\lib\\site-packages\\ipykernel_launcher.py\", line 16, in <module>\n",
      "    app.launch_new_instance()\n",
      "  File \"C:\\Users\\rugilman\\AppData\\Local\\Continuum\\anaconda3\\lib\\site-packages\\traitlets\\config\\application.py\", line 658, in launch_instance\n",
      "    app.start()\n",
      "  File \"C:\\Users\\rugilman\\AppData\\Local\\Continuum\\anaconda3\\lib\\site-packages\\ipykernel\\kernelapp.py\", line 478, in start\n",
      "    self.io_loop.start()\n",
      "  File \"C:\\Users\\rugilman\\AppData\\Local\\Continuum\\anaconda3\\lib\\site-packages\\zmq\\eventloop\\ioloop.py\", line 177, in start\n",
      "    super(ZMQIOLoop, self).start()\n",
      "  File \"C:\\Users\\rugilman\\AppData\\Local\\Continuum\\anaconda3\\lib\\site-packages\\tornado\\ioloop.py\", line 888, in start\n",
      "    handler_func(fd_obj, events)\n",
      "  File \"C:\\Users\\rugilman\\AppData\\Local\\Continuum\\anaconda3\\lib\\site-packages\\tornado\\stack_context.py\", line 277, in null_wrapper\n",
      "    return fn(*args, **kwargs)\n",
      "  File \"C:\\Users\\rugilman\\AppData\\Local\\Continuum\\anaconda3\\lib\\site-packages\\zmq\\eventloop\\zmqstream.py\", line 440, in _handle_events\n",
      "    self._handle_recv()\n",
      "  File \"C:\\Users\\rugilman\\AppData\\Local\\Continuum\\anaconda3\\lib\\site-packages\\zmq\\eventloop\\zmqstream.py\", line 472, in _handle_recv\n",
      "    self._run_callback(callback, msg)\n",
      "  File \"C:\\Users\\rugilman\\AppData\\Local\\Continuum\\anaconda3\\lib\\site-packages\\zmq\\eventloop\\zmqstream.py\", line 414, in _run_callback\n",
      "    callback(*args, **kwargs)\n",
      "  File \"C:\\Users\\rugilman\\AppData\\Local\\Continuum\\anaconda3\\lib\\site-packages\\tornado\\stack_context.py\", line 277, in null_wrapper\n",
      "    return fn(*args, **kwargs)\n",
      "  File \"C:\\Users\\rugilman\\AppData\\Local\\Continuum\\anaconda3\\lib\\site-packages\\ipykernel\\kernelbase.py\", line 283, in dispatcher\n",
      "    return self.dispatch_shell(stream, msg)\n",
      "  File \"C:\\Users\\rugilman\\AppData\\Local\\Continuum\\anaconda3\\lib\\site-packages\\ipykernel\\kernelbase.py\", line 233, in dispatch_shell\n",
      "    handler(stream, idents, msg)\n",
      "  File \"C:\\Users\\rugilman\\AppData\\Local\\Continuum\\anaconda3\\lib\\site-packages\\ipykernel\\kernelbase.py\", line 399, in execute_request\n",
      "    user_expressions, allow_stdin)\n",
      "  File \"C:\\Users\\rugilman\\AppData\\Local\\Continuum\\anaconda3\\lib\\site-packages\\ipykernel\\ipkernel.py\", line 208, in do_execute\n",
      "    res = shell.run_cell(code, store_history=store_history, silent=silent)\n",
      "  File \"C:\\Users\\rugilman\\AppData\\Local\\Continuum\\anaconda3\\lib\\site-packages\\ipykernel\\zmqshell.py\", line 537, in run_cell\n",
      "    return super(ZMQInteractiveShell, self).run_cell(*args, **kwargs)\n",
      "  File \"C:\\Users\\rugilman\\AppData\\Local\\Continuum\\anaconda3\\lib\\site-packages\\IPython\\core\\interactiveshell.py\", line 2728, in run_cell\n",
      "    interactivity=interactivity, compiler=compiler, result=result)\n",
      "  File \"C:\\Users\\rugilman\\AppData\\Local\\Continuum\\anaconda3\\lib\\site-packages\\IPython\\core\\interactiveshell.py\", line 2850, in run_ast_nodes\n",
      "    if self.run_code(code, result):\n",
      "  File \"C:\\Users\\rugilman\\AppData\\Local\\Continuum\\anaconda3\\lib\\site-packages\\IPython\\core\\interactiveshell.py\", line 2910, in run_code\n",
      "    exec(code_obj, self.user_global_ns, self.user_ns)\n",
      "  File \"<ipython-input-1-0db3ce27c137>\", line 10, in <module>\n",
      "    import matplotlib.pyplot as plt\n",
      "  File \"C:\\Users\\rugilman\\AppData\\Local\\Continuum\\anaconda3\\lib\\site-packages\\matplotlib\\pyplot.py\", line 72, in <module>\n",
      "    from matplotlib.backends import pylab_setup\n",
      "  File \"C:\\Users\\rugilman\\AppData\\Local\\Continuum\\anaconda3\\lib\\site-packages\\matplotlib\\backends\\__init__.py\", line 14, in <module>\n",
      "    line for line in traceback.format_stack()\n",
      "\n",
      "\n",
      "  if sys.path[0] == '':\n"
     ]
    },
    {
     "data": {
      "text/plain": [
       "'\\n%load_ext autoreload\\n%autoreload 2\\n%matplotlib inline'"
      ]
     },
     "execution_count": 1,
     "metadata": {},
     "output_type": "execute_result"
    }
   ],
   "source": [
    "from __future__ import print_function\n",
    "import torch\n",
    "import torch.nn as nn\n",
    "import torch.optim as optim\n",
    "import torch.nn.functional as F\n",
    "import numpy as np\n",
    "import matplotlib\n",
    "import torchvision\n",
    "\n",
    "import matplotlib.pyplot as plt\n",
    "from torch.utils.data import Dataset, DataLoader\n",
    "matplotlib.use('Agg')\n",
    "\"\"\"\n",
    "%load_ext autoreload\n",
    "%autoreload 2\n",
    "%matplotlib inline\"\"\""
   ]
  },
  {
   "cell_type": "code",
   "execution_count": 2,
   "metadata": {
    "colab": {
     "base_uri": "https://localhost:8080/",
     "height": 357
    },
    "colab_type": "code",
    "executionInfo": {
     "elapsed": 1062,
     "status": "ok",
     "timestamp": 1532719610444,
     "user": {
      "displayName": "Rudy Gilman",
      "photoUrl": "https://lh3.googleusercontent.com/a/default-user=s128",
      "userId": "112478309618698198298"
     },
     "user_tz": 360
    },
    "id": "Fs2deH-WQtbd",
    "outputId": "df17acb8-4c30-4a8f-a326-94186c9a2302"
   },
   "outputs": [
    {
     "data": {
      "image/png": "[encoded data removed]",
      "text/plain": [
       "<matplotlib.figure.Figure at 0x220b204b2e8>"
      ]
     },
     "metadata": {},
     "output_type": "display_data"
    },
    {
     "data": {
      "text/plain": [
       "(5000, 300)"
      ]
     },
     "execution_count": 2,
     "metadata": {},
     "output_type": "execute_result"
    }
   ],
   "source": [
    "# Generate training data\n",
    "np.random.seed(23)\n",
    "\n",
    "T = 5\n",
    "\n",
    "# these are set to one more than necessary. We set them again later.\n",
    "L = 300 # to create X and y, need to pad by one\n",
    "N = 5000 # when zipping together, lose one.\n",
    "\n",
    "noise = np.random.uniform(-0.1, 0.1, (N, L)).astype(np.float32)\n",
    "\n",
    "x = np.empty((N, L), 'float32')\n",
    "x[:] = np.array(range(L)) + np.random.randint(-4 * T, 4 * T, N).reshape(N, 1)\n",
    "data = np.sin(x / 1.0 / T).astype('float64') #+ noise\n",
    "\n",
    "plt.figure(figsize=(30,5))\n",
    "plt.plot(np.arange(L), data[0], 'go', alpha=1, markerfacecolor='green')\n",
    "plt.show()\n",
    "\n",
    "data.shape"
   ]
  },
  {
   "cell_type": "code",
   "execution_count": 3,
   "metadata": {
    "colab": {
     "base_uri": "https://localhost:8080/",
     "height": 357
    },
    "colab_type": "code",
    "executionInfo": {
     "elapsed": 2794,
     "status": "ok",
     "timestamp": 1532538633590,
     "user": {
      "displayName": "Rudy Gilman",
      "photoUrl": "https://lh3.googleusercontent.com/a/default-user=s128",
      "userId": "112478309618698198298"
     },
     "user_tz": 360
    },
    "id": "5ccDCjhiQwhO",
    "outputId": "30b4d2d8-c144-429e-dde2-52dde78d0634"
   },
   "outputs": [
    {
     "data": {
      "image/png": "[encoded data removed]",
      "text/plain": [
       "<matplotlib.figure.Figure at 0x220b3e14860>"
      ]
     },
     "metadata": {},
     "output_type": "display_data"
    },
    {
     "data": {
      "text/plain": [
       "(5000, 300)"
      ]
     },
     "execution_count": 3,
     "metadata": {},
     "output_type": "execute_result"
    }
   ],
   "source": [
    "# create new dataset by randomly inverting waves to create challenge only MDN can handle\n",
    "rand_data = []\n",
    "for ii in range(len(data)):\n",
    "    seq = data[ii]\n",
    "    dd = [seq[0]]\n",
    "    invert = False\n",
    "    for i in range(1, len(data[0])):\n",
    "        d = seq[i]; d_prev = seq[i-1]\n",
    "        if d < 0 and d_prev > 0 and np.random.random() > .50: invert = True\n",
    "        elif d > 0 and d_prev < 0: invert = False\n",
    "        if invert: dd.append(seq[i]*-1)\n",
    "        else: dd.append(seq[i])\n",
    "    rand_data.append(dd)\n",
    "plt.figure(figsize=(30,5))\n",
    "plt.plot(np.arange(L), rand_data[1], 'go', alpha=1, markerfacecolor='green')\n",
    "plt.show()\n",
    "\n",
    "# overwriting original data\n",
    "data = np.array(rand_data); data.shape"
   ]
  },
  {
   "cell_type": "code",
   "execution_count": 4,
   "metadata": {
    "colab": {},
    "colab_type": "code",
    "id": "jItA_DweQz5r"
   },
   "outputs": [],
   "source": [
    "N-=1; L-=1"
   ]
  },
  {
   "cell_type": "code",
   "execution_count": 5,
   "metadata": {
    "colab": {},
    "colab_type": "code",
    "id": "vt4DK5VjQ0y8"
   },
   "outputs": [],
   "source": [
    "# zip arrays into arrays of two dims each.\n",
    "data_mult_dim = []\n",
    "for i in range(N): \n",
    "    data_mult_dim.append([list(a) for a in zip(data[i], data[i+1])])\n",
    "data_mult_dim = torch.Tensor(np.array(data_mult_dim)); "
   ]
  },
  {
   "cell_type": "code",
   "execution_count": 5,
   "metadata": {
    "colab": {
     "base_uri": "https://localhost:8080/",
     "height": 34
    },
    "colab_type": "code",
    "executionInfo": {
     "elapsed": 1199,
     "status": "ok",
     "timestamp": 1535318272922,
     "user": {
      "displayName": "Rudy Gilman",
      "photoUrl": "https://lh3.googleusercontent.com/a/default-user=s128",
      "userId": "112478309618698198298"
     },
     "user_tz": 360
    },
    "id": "Aq-OpG9hQ-k3",
    "outputId": "bc8475a9-dde5-40e3-b7d0-633f283c743b"
   },
   "outputs": [
    {
     "data": {
      "text/plain": [
       "torch.Size([3000, 222, 100])"
      ]
     },
     "execution_count": 5,
     "metadata": {},
     "output_type": "execute_result"
    }
   ],
   "source": [
    "# Loading z seqs from VAE. Same shape, essence as sine waves above.\n",
    "\n",
    "data_mult_dim = torch.load('z_seq.pt')\n",
    "\n",
    "data_mult_dim.shape # bs, seq len, num latents"
   ]
  },
  {
   "cell_type": "code",
   "execution_count": 6,
   "metadata": {
    "colab": {},
    "colab_type": "code",
    "id": "v-jdXKfBRBqY"
   },
   "outputs": [],
   "source": [
    "# Create dataloader from whichever data we choose\n",
    "\n",
    "bs = 10\n",
    "dataloader = DataLoader(data_mult_dim, batch_size=bs, shuffle=True) "
   ]
  },
  {
   "cell_type": "code",
   "execution_count": 10,
   "metadata": {
    "colab": {},
    "colab_type": "code",
    "id": "o50Tp08JRFLS"
   },
   "outputs": [],
   "source": [
    "# Model. MUST MANUALLY CHANGE N_IN to reflect size of z\n",
    "\n",
    "N_IN = 2; N_HIDDEN = 512; N_GAUSSIANS = 5; N_LSTM_LAYERS = 1\n",
    "\n",
    "class LSTM(nn.Module):\n",
    "    def __init__(self):\n",
    "        super(LSTM, self).__init__()\n",
    "        \n",
    "        self.lstm = nn.LSTM(N_IN, N_HIDDEN, num_layers=N_LSTM_LAYERS) # this outputs the hidden state, which must be run through linear for result.\n",
    "        \n",
    "        self.z_pi = nn.Linear(N_HIDDEN, N_GAUSSIANS*N_IN)\n",
    "        self.z_sigma = nn.Linear(N_HIDDEN, N_GAUSSIANS*N_IN)\n",
    "        self.z_mu = nn.Linear(N_HIDDEN, N_GAUSSIANS*N_IN)\n",
    "\n",
    "    def init_hidden(self, n_seqs):\n",
    "        # Before we've done anything, we dont have any hidden state.\n",
    "        # The axes semantics are (num_layers, minibatch_size, hidden_dim)\n",
    "        self.hidden = (torch.zeros(N_LSTM_LAYERS, n_seqs, N_HIDDEN), # for cell, there are no layers. for lstm, using single layer\n",
    "                torch.zeros(N_LSTM_LAYERS, n_seqs, N_HIDDEN))\n",
    "\n",
    "    def forward(self, x): \n",
    "        # \"out\" will give you access to all hidden states in the sequence\n",
    "        # \"hidden\" will allow you to continue the sequence and backpropagate,\n",
    "        # by passing it as an argument  to the lstm at a later time\n",
    "        \n",
    "        # understand these mechanics more.\n",
    "        out, self.hidden = self.lstm(x, self.hidden) # i was confusing what was h_t, c_t. Do more research on this\n",
    "        \n",
    "        # also predicting distributions to draw from for MDN\n",
    "        pi = self.z_pi(out).view(x.size(0), x.size(1), N_GAUSSIANS, N_IN) # output of linear is all mushed together. separating out.\n",
    "        pi = F.softmax(pi, dim=2)\n",
    "        #pi = pi / TEMPERATURE\n",
    "        \n",
    "        sigma = self.z_sigma(out).view(x.size(0), x.size(1), N_GAUSSIANS, N_IN)\n",
    "        sigma = torch.exp(sigma)\n",
    "        #sigma = sigma * (TEMPERATURE ** 0.5)\n",
    "        \n",
    "        mu = self.z_mu(out).view(x.size(0), x.size(1), N_GAUSSIANS, N_IN)\n",
    "        \n",
    "        return {\"pi\":pi, \"sigma\":sigma, \"mu\":mu}"
   ]
  },
  {
   "cell_type": "code",
   "execution_count": 11,
   "metadata": {
    "colab": {
     "base_uri": "https://localhost:8080/",
     "height": 34
    },
    "colab_type": "code",
    "executionInfo": {
     "elapsed": 3339,
     "status": "ok",
     "timestamp": 1535318415894,
     "user": {
      "displayName": "Rudy Gilman",
      "photoUrl": "https://lh3.googleusercontent.com/a/default-user=s128",
      "userId": "112478309618698198298"
     },
     "user_tz": 360
    },
    "id": "U_CP06oXRIuT",
    "outputId": "a4daea98-f1c9-4aac-eaef-54016073dd8d"
   },
   "outputs": [],
   "source": [
    "# init model\n",
    "\n",
    "lstm = LSTM(); \n",
    "\n",
    "if torch.cuda.is_available():\n",
    "    print(\"cuda available\")\n",
    "    lstm.cuda()\n",
    "    \n",
    "#from ctallec world models implementation\n",
    "optimizer = optim.RMSprop(lstm.parameters(), lr=1e-3, alpha=.9) \n",
    "\n",
    "#optimizer = optim.SGD(lstm.parameters(), lr=0.001)"
   ]
  },
  {
   "cell_type": "code",
   "execution_count": 15,
   "metadata": {
    "colab": {},
    "colab_type": "code",
    "id": "w_xLmtCTRLAq",
    "scrolled": true
   },
   "outputs": [
    {
     "name": "stdout",
     "output_type": "stream",
     "text": [
      "Epoch 0\n"
     ]
    },
    {
     "name": "stderr",
     "output_type": "stream",
     "text": [
      "C:\\Users\\rugilman\\AppData\\Local\\Continuum\\anaconda3\\lib\\site-packages\\ipykernel_launcher.py:31: UserWarning: torch.nn.utils.clip_grad_norm is now deprecated in favor of torch.nn.utils.clip_grad_norm_.\n"
     ]
    },
    {
     "name": "stdout",
     "output_type": "stream",
     "text": [
      "loss:  1.1642863750457764\n",
      "loss:  0.09173693507909775\n",
      "loss:  -0.14792673289775848\n",
      "loss:  -1.0157266855239868\n",
      "loss:  -1.1453635692596436\n"
     ]
    }
   ],
   "source": [
    "# train\n",
    "\n",
    "for epoch in range(1): # for each epoch\n",
    "    print(\"Epoch\", epoch)\n",
    "    for i, batch in enumerate(dataloader): # for each batch\n",
    "        \n",
    "        X = batch[:,:-1,:]; \n",
    "        y = batch[:,1:,:] # staggering by one\n",
    "        \n",
    "        L = X.size(1)\n",
    "        \n",
    "        N_SEQS = X.size(0) # allowing flexibility with batch size\n",
    "        \n",
    "        lstm.init_hidden(N_SEQS) # always start sequence with fresh hidden state\n",
    "\n",
    "        X = torch.Tensor(X).transpose(0,1).view(L, N_SEQS, N_IN)#.cuda()\n",
    "        # when transitioning to lstm from cell, switching axes all around. insert another dimension L at beginning. Can\n",
    "        # also use lstm to do one-by-one, in that case L=1.\n",
    "\n",
    "        mdn_coefs = lstm(X) # feeding in one at a time from each sequence, marching side by side\n",
    "        actual_next = torch.Tensor(y).transpose(0, 1).view(L, N_SEQS, N_IN)#.cuda() # reshape target to match lstm output\n",
    "\n",
    "        #MDN\n",
    "        sequence_loss = mdn_loss_function(mdn_coefs[\"pi\"], \n",
    "                     mdn_coefs[\"sigma\"], \n",
    "                     mdn_coefs[\"mu\"], \n",
    "                     actual_next.view(L, N_SEQS, 1, N_IN)) # mdn params are split out, so we're padding a bit to match them up\n",
    "\n",
    "        lstm.zero_grad()\n",
    "        sequence_loss.backward()\n",
    "        nn.utils.clip_grad_norm(lstm.parameters(), 1) # this halts the explosion\n",
    "        optimizer.step()\n",
    "        if i % 100 == 0: print(\"loss: \", sequence_loss.item())\n",
    "\n",
    "        \n",
    "#torch.save(lstm.state_dict(), 'lstm.torch')"
   ]
  },
  {
   "cell_type": "code",
   "execution_count": 16,
   "metadata": {},
   "outputs": [
    {
     "name": "stdout",
     "output_type": "stream",
     "text": [
      "Parameter containing:\n",
      "tensor([[ 0.1019,  0.0174,  0.0695,  ..., -0.0529,  0.0221,  0.1059],\n",
      "        [ 0.0816,  0.0439, -0.0935,  ..., -0.0410,  0.0099, -0.0354],\n",
      "        [ 0.0994, -0.0341,  0.2515,  ..., -0.1312,  0.1053,  0.0661],\n",
      "        ...,\n",
      "        [-0.0127,  0.0501,  0.0640,  ..., -0.0972,  0.0122,  0.0759],\n",
      "        [-0.0618, -0.1005,  0.0239,  ..., -0.0842,  0.1130, -0.0311],\n",
      "        [ 0.1164,  0.0518,  0.1662,  ..., -0.0855,  0.1730, -0.0856]],\n",
      "       device='cuda:0', requires_grad=True)\n",
      "Parameter containing:\n",
      "tensor([[ 0.1225, -0.3612, -0.2206,  ..., -0.1556, -0.2550,  0.0673],\n",
      "        [ 0.0426,  0.1114, -0.4133,  ...,  0.3697,  0.1846,  0.0556],\n",
      "        [ 0.0062,  0.0288,  0.0539,  ..., -0.0791, -0.2740, -0.1107],\n",
      "        ...,\n",
      "        [ 0.0859,  0.0289,  0.0169,  ..., -0.1074,  0.0329, -0.0670],\n",
      "        [ 0.0082, -0.1949, -0.2420,  ...,  0.0731,  0.1442, -0.1784],\n",
      "        [-0.0427,  0.0400,  0.0438,  ...,  0.1396,  0.0513, -0.2457]],\n",
      "       device='cuda:0', requires_grad=True)\n",
      "Parameter containing:\n",
      "tensor([0.0675, 0.1471, 0.0997,  ..., 0.0481, 0.0382, 0.0595],\n",
      "       device='cuda:0', requires_grad=True)\n",
      "Parameter containing:\n",
      "tensor([0.0664, 0.1029, 0.0820,  ..., 0.0859, 0.0404, 0.0710],\n",
      "       device='cuda:0', requires_grad=True)\n",
      "Parameter containing:\n",
      "tensor([[-0.0104,  0.0349, -0.0302,  ..., -0.0164,  0.0008, -0.0340],\n",
      "        [-0.0177, -0.0227, -0.0200,  ...,  0.0248,  0.0432, -0.0093],\n",
      "        [-0.0002,  0.0003, -0.0381,  ..., -0.0148,  0.0410, -0.0435],\n",
      "        ...,\n",
      "        [-0.0098, -0.0043, -0.0298,  ..., -0.0410,  0.0185, -0.0042],\n",
      "        [-0.0269,  0.0309, -0.0159,  ..., -0.0384,  0.0173,  0.0200],\n",
      "        [ 0.0407,  0.0308,  0.0278,  ...,  0.0016, -0.0127,  0.0236]],\n",
      "       device='cuda:0', requires_grad=True)\n",
      "Parameter containing:\n",
      "tensor([ 0.0231, -0.0171,  0.0123, -0.0095, -0.0288, -0.0016,  0.0335,  0.0006,\n",
      "         0.0162, -0.0245, -0.0382, -0.0246, -0.0149, -0.0147,  0.0142, -0.0407,\n",
      "         0.0385,  0.0087, -0.0364, -0.0109,  0.0030,  0.0361, -0.0419,  0.0060,\n",
      "         0.0352,  0.0342, -0.0161, -0.0413,  0.0329, -0.0278,  0.0289, -0.0394,\n",
      "         0.0206, -0.0369, -0.0200,  0.0109, -0.0035,  0.0435, -0.0259,  0.0073,\n",
      "         0.0193, -0.0388, -0.0026,  0.0199, -0.0113, -0.0273,  0.0303,  0.0378,\n",
      "        -0.0358,  0.0275,  0.0106, -0.0107, -0.0436,  0.0333,  0.0437, -0.0336,\n",
      "         0.0217, -0.0442, -0.0331, -0.0043, -0.0388, -0.0363,  0.0083, -0.0328,\n",
      "        -0.0428, -0.0133,  0.0124, -0.0154,  0.0126,  0.0258, -0.0259,  0.0049,\n",
      "         0.0249,  0.0307, -0.0360, -0.0093,  0.0156, -0.0115, -0.0382, -0.0369,\n",
      "        -0.0093, -0.0103,  0.0206,  0.0418, -0.0096,  0.0273,  0.0033,  0.0034,\n",
      "         0.0317,  0.0320,  0.0177, -0.0130,  0.0351, -0.0086,  0.0236,  0.0316,\n",
      "         0.0231, -0.0411, -0.0139,  0.0197],\n",
      "       device='cuda:0', requires_grad=True)\n",
      "Parameter containing:\n",
      "tensor([[ 0.5481,  0.1724, -0.1893,  ..., -0.3843, -0.0400,  0.2230],\n",
      "        [-0.1494, -0.0730, -0.1911,  ..., -0.1114, -0.3125,  0.2548],\n",
      "        [ 0.7837,  0.1772,  0.1297,  ...,  0.4944,  0.6652,  0.4557],\n",
      "        ...,\n",
      "        [ 0.0608,  0.1867,  0.1032,  ..., -0.2423,  0.2305, -0.1748],\n",
      "        [-0.2961,  0.0500,  0.4388,  ..., -0.5467, -0.1181,  0.2804],\n",
      "        [ 0.9075,  0.4341,  1.3936,  ...,  0.2092,  0.8379, -0.8879]],\n",
      "       device='cuda:0', requires_grad=True)\n",
      "Parameter containing:\n",
      "tensor([-0.1165, -0.0741,  0.6128,  0.0323,  0.3090,  0.1792,  0.0452, -0.0115,\n",
      "         0.1864, -0.0966, -0.0745,  0.0483, -0.0559,  0.4625, -0.3096,  0.1116,\n",
      "         0.0320, -0.1366,  0.1271,  0.0257,  0.4678, -0.0299,  0.0040, -0.0064,\n",
      "         0.0123, -0.0926,  0.0215,  0.0550,  0.4050, -0.1005,  0.2364, -0.0453,\n",
      "        -0.3080,  0.3309,  0.2848,  0.6318, -0.0602, -0.3791,  0.0287, -0.2242,\n",
      "         0.1691, -0.3989, -0.0344, -0.0436, -0.0957, -0.2797,  0.7429,  0.1280,\n",
      "        -0.1793, -0.2202,  0.4002, -0.1373,  0.1742, -0.4929, -0.2045,  0.2558,\n",
      "        -0.1147,  0.4514,  0.0770, -0.0223, -0.1337,  0.0442, -0.1606, -0.1792,\n",
      "         0.2564, -0.1189,  0.2800, -0.1002, -0.2873,  0.1144,  0.3169,  0.0381,\n",
      "        -0.1929, -0.1140,  0.3011, -0.1377,  0.0665,  0.6748,  0.8188, -0.0408,\n",
      "        -0.0294,  0.0598,  0.1907, -0.0302,  0.1113,  0.1748,  0.4299, -0.0257,\n",
      "         0.0177,  0.5324, -0.1024, -0.3835,  0.4601, -0.1187,  0.0206, -0.0111,\n",
      "         0.1964, -0.0197, -0.0402,  0.1701, -0.1642, -0.0531, -0.0958,  0.2040,\n",
      "         0.1482,  0.0465, -0.1064,  0.1366, -0.1273,  0.0912,  0.3207,  0.0437,\n",
      "         0.1847, -0.0502, -0.2448, -0.3042,  0.5048,  0.1679,  0.0685, -0.1012,\n",
      "        -0.0249,  0.6172, -0.1185, -0.0437,  0.0167,  0.0933,  0.5604,  0.0766,\n",
      "         0.0504,  0.2558, -0.0019,  0.5201,  0.2871, -0.0032,  0.1701,  0.0568,\n",
      "         0.4016, -0.0266,  0.0319,  0.0471,  0.3377,  0.4919,  0.8344,  0.1804,\n",
      "         0.3419,  0.0636, -0.0949, -0.0347,  0.3168, -0.0394, -0.2343,  0.0908,\n",
      "         0.0491,  0.0657, -0.0982,  0.5384, -0.1011, -0.0341, -0.1552, -0.1774,\n",
      "         0.3745, -0.1176, -0.1197, -0.3333,  0.5043,  0.1412,  0.1753,  0.9486,\n",
      "         0.0150, -0.0716,  0.0964, -0.2020,  0.0330, -0.0235,  0.6865,  0.3417,\n",
      "        -0.1779,  0.0669,  0.0194,  0.6450, -0.2203,  0.0803,  0.0804,  0.2899,\n",
      "         0.0268,  0.0590,  0.1149,  0.6025,  0.0724, -0.1748,  0.0197, -0.1637,\n",
      "         0.0756, -0.1699,  0.0391, -0.0722,  0.0241, -0.1184,  0.3441, -0.0260,\n",
      "         0.1193,  0.0668,  0.0125,  0.3237, -0.0115, -0.4004,  0.0237,  0.3285,\n",
      "        -0.0196, -0.3310,  0.6469,  0.6384,  0.0283, -0.0734, -0.2959, -0.3509,\n",
      "        -0.0011, -0.1003,  0.0240, -0.1243, -0.0740,  0.1758, -0.3496,  0.2535,\n",
      "        -0.0824,  0.3456, -0.1946,  0.0553,  0.1648, -0.0556,  0.2266,  0.1510,\n",
      "         0.3820,  0.0168, -0.2010, -0.2224, -0.0641, -0.1469, -0.4125,  0.0840,\n",
      "        -0.0098, -0.0943,  0.0244,  0.5161, -0.1765, -0.1155, -0.2589,  0.0457,\n",
      "         0.1081,  0.1561,  0.2945,  0.3065,  0.1558, -0.1138,  0.0104, -0.1744,\n",
      "        -0.2312, -0.1924,  0.4072,  0.6384,  0.0884,  0.2233, -0.1364,  0.5001,\n",
      "        -0.0159,  0.1028, -0.6554, -0.2424,  0.1379, -0.0250,  0.1066,  0.2589,\n",
      "        -0.0223,  0.5912, -0.1902,  0.1904,  0.3551, -0.4320, -0.1725, -0.1859,\n",
      "        -0.2229,  0.0188, -0.2228, -0.1654, -0.1958, -0.2549, -0.0113,  0.0150,\n",
      "         0.2005, -0.2977, -0.0456,  0.3112, -0.0584, -0.2468, -0.0295, -0.5021,\n",
      "         0.3503,  1.2470, -0.0745, -0.2396,  0.5187,  0.5382,  0.1343, -0.0157,\n",
      "        -0.1590,  0.2855,  0.0246, -0.1961, -0.0488,  0.9331, -0.1277, -0.0455,\n",
      "         0.5152,  0.0328, -0.0431,  0.1336, -0.0090, -0.0293, -0.3121,  0.2671,\n",
      "        -0.1975,  0.0352,  0.8376,  0.2844, -0.1736,  0.3687,  0.0506,  0.5411,\n",
      "        -0.0111,  0.1302, -0.2063,  0.0705, -0.0292, -0.0732, -0.1658, -0.0786,\n",
      "        -0.2833,  0.7038, -0.2035,  0.1695, -0.0897, -0.1881, -0.1394,  0.0731,\n",
      "         0.1356, -0.0307, -0.1151,  0.1681,  0.3092,  0.1329, -0.0532,  0.3393,\n",
      "         0.1156, -0.2573, -0.1444, -0.2831,  0.3062, -0.1282, -0.3551, -0.0963,\n",
      "        -0.0756,  0.0385, -0.0249,  0.5782, -0.0461,  0.1089, -0.0680, -0.0221,\n",
      "        -0.0771, -0.2639,  0.0520,  0.2617, -0.2371, -0.0273, -0.0491, -0.1053,\n",
      "         0.3271, -0.2116, -0.0718,  0.0042,  0.9383, -0.0320, -0.2623,  0.7102,\n",
      "         0.5805, -0.1937, -0.0466, -0.2419, -0.0038, -0.0717,  0.6608,  0.1230,\n",
      "        -0.0225,  0.3277,  0.2722,  0.4019,  0.1008, -0.0167,  0.4351, -0.0016,\n",
      "        -0.1396,  0.1960,  0.2789, -0.1319,  0.0161, -0.0312,  0.4089, -0.2801,\n",
      "         0.7354, -0.3461, -0.3105, -0.2932, -0.2419, -0.7067,  0.6893,  0.3013,\n",
      "         0.0313,  0.5875,  0.3288,  0.1355,  0.2819, -0.4131,  0.1013, -0.3595,\n",
      "         0.3992, -0.1346, -0.1019, -0.0999, -0.1082,  0.3997, -0.1442, -0.1194,\n",
      "         0.0272,  0.3502, -0.0461,  0.0213,  0.4243,  0.1721,  0.6224,  0.3192,\n",
      "         0.0908,  0.1366,  0.0745, -0.3203,  0.0130,  0.7779, -0.2821,  0.0864,\n",
      "        -0.0787,  0.3410,  0.0937, -0.3867, -0.1012,  0.4262,  1.0409,  0.0282,\n",
      "         0.4570, -0.0801,  0.0187, -0.0475,  0.0724,  0.5257,  0.3951,  0.0128,\n",
      "        -0.0841,  0.2399, -0.0053, -0.1819,  0.3440,  0.1406,  0.1286,  0.1698,\n",
      "         0.7344, -0.2535,  0.0608,  0.0580, -0.2843, -0.0550,  0.0274, -0.1284,\n",
      "        -0.0614,  0.1724,  0.4180, -0.1914, -0.1076,  0.4090,  0.0352, -0.0640,\n",
      "         0.0186,  0.3479, -0.0388,  0.1743,  0.0021,  0.0018,  0.3778,  0.0138,\n",
      "        -0.0455, -0.2320, -0.1078,  0.4806],\n",
      "       device='cuda:0', requires_grad=True)\n",
      "Parameter containing:\n",
      "tensor([[-0.0708,  0.1028, -0.0164,  ...,  0.0403, -0.0351, -0.1251],\n",
      "        [-0.1675,  0.1318, -0.0160,  ..., -0.0201,  0.0083, -0.1836],\n",
      "        [-0.2253,  0.0594, -0.0589,  ..., -0.1383,  0.0686, -0.1370],\n",
      "        ...,\n",
      "        [-0.1206,  0.1043,  0.2446,  ..., -0.0078, -0.1710, -0.0918],\n",
      "        [-0.0367, -0.0484,  0.0691,  ..., -0.0428, -0.0856, -0.0949],\n",
      "        [ 0.0257,  0.0891, -0.0325,  ..., -0.1649,  0.0696, -0.0215]],\n",
      "       device='cuda:0', requires_grad=True)\n",
      "Parameter containing:\n",
      "tensor([ 0.0981,  0.2334, -0.0061,  0.1393,  0.0597,  0.0327,  0.1575,  0.3243,\n",
      "         0.0915,  0.1808,  0.1925,  0.0872,  0.2668,  0.0081,  0.3030,  0.1694,\n",
      "         0.2493,  0.1961,  0.1122,  0.1392, -0.0520,  0.1479,  0.2802,  0.2099,\n",
      "         0.1898,  0.1924,  0.1372,  0.1102,  0.0243,  0.0920,  0.0705,  0.2517,\n",
      "         0.2280, -0.0103, -0.0463, -0.0263,  0.1627,  0.2431,  0.0860,  0.0932,\n",
      "         0.0613,  0.2020,  0.1914,  0.2408,  0.2482,  0.1052, -0.0224,  0.0858,\n",
      "         0.1252,  0.1808,  0.0331,  0.0982,  0.1109,  0.2034,  0.1683,  0.0672,\n",
      "         0.2264,  0.0516,  0.0488,  0.2569,  0.1671,  0.1566,  0.2900,  0.3612,\n",
      "         0.0572,  0.1519,  0.0432,  0.3180,  0.2706,  0.0372, -0.0082,  0.1622,\n",
      "         0.2730,  0.3001,  0.0421,  0.1907,  0.1261,  0.0041,  0.0142,  0.1120,\n",
      "         0.2739,  0.0696,  0.0646,  0.1560,  0.1842,  0.0254, -0.0162,  0.0917,\n",
      "         0.1105,  0.0573,  0.1211,  0.3288, -0.0208,  0.2370,  0.2080,  0.1280,\n",
      "         0.1774,  0.0939,  0.2116, -0.0032,  0.1144,  0.2357,  0.1885, -0.0307,\n",
      "         0.0885,  0.0234,  0.2750,  0.0842,  0.1809,  0.2301,  0.0071,  0.2970,\n",
      "         0.1956,  0.1958,  0.1362,  0.2252, -0.0015,  0.0514,  0.1914,  0.1020,\n",
      "         0.1768, -0.0560,  0.2462,  0.0556,  0.0147,  0.0418, -0.0554,  0.0991,\n",
      "         0.2009,  0.0997,  0.1155, -0.0201, -0.0223,  0.2581,  0.0647,  0.1154,\n",
      "         0.0322,  0.1612,  0.3321,  0.1827,  0.0442, -0.0053, -0.0220,  0.1698,\n",
      "         0.0756,  0.1913,  0.1646,  0.1412, -0.0050,  0.1242,  0.2630,  0.1091,\n",
      "         0.1130,  0.1397,  0.2390,  0.2038,  0.3091,  0.1145,  0.1300,  0.1354,\n",
      "         0.1843,  0.1679,  0.3676,  0.2404, -0.0157,  0.0213, -0.0055, -0.1089,\n",
      "         0.1812,  0.0231,  0.1352,  0.1103,  0.0236,  0.1078,  0.0707,  0.2376,\n",
      "         0.2365,  0.3007,  0.2235, -0.0149,  0.3604,  0.1182,  0.0238,  0.2081,\n",
      "         0.1483,  0.0627,  0.1652,  0.0350,  0.1755,  0.3477,  0.1644,  0.3108,\n",
      "         0.2665, -0.0406,  0.2442,  0.2406,  0.1196,  0.2513, -0.0133,  0.1225,\n",
      "         0.2428,  0.0501,  0.2163, -0.0204,  0.0885,  0.1901,  0.0478,  0.0494,\n",
      "         0.2329,  0.3467, -0.0121,  0.0072,  0.1849,  0.2166,  0.2071,  0.0408,\n",
      "         0.1029,  0.1273,  0.0953,  0.2088,  0.1793,  0.0474,  0.2636,  0.0473,\n",
      "         0.3933,  0.0224,  0.1757,  0.1263,  0.0520,  0.2082, -0.0091,  0.0255,\n",
      "        -0.0497,  0.0730,  0.2359,  0.2152,  0.2748,  0.2218,  0.2238,  0.1340,\n",
      "         0.3221,  0.1253,  0.1893,  0.0193,  0.1553,  0.2806,  0.2454,  0.0478,\n",
      "         0.0335,  0.1640,  0.0153, -0.0026,  0.0502,  0.2992,  0.1095,  0.2389,\n",
      "         0.1722,  0.1920, -0.0530, -0.0785,  0.0854,  0.0573,  0.2151,  0.0569,\n",
      "         0.1994, -0.0164,  0.1316,  0.0615,  0.0792,  0.1266,  0.0496,  0.0048,\n",
      "         0.1457, -0.0459,  0.1520,  0.0206, -0.0778,  0.1194,  0.1912,  0.2076,\n",
      "         0.1801,  0.2172,  0.2557,  0.2459,  0.1356,  0.1644,  0.0691,  0.0976,\n",
      "         0.1931,  0.2307,  0.2495, -0.0474,  0.0651,  0.1860,  0.0815,  0.3420,\n",
      "         0.0661,  0.0407,  0.2122,  0.0796,  0.1189, -0.0203, -0.0255,  0.0727,\n",
      "         0.0846,  0.0512,  0.0768,  0.2091,  0.1047,  0.1091,  0.2380,  0.1691,\n",
      "         0.0158,  0.0732,  0.1865,  0.0375,  0.0671,  0.1272,  0.1648, -0.0020,\n",
      "         0.1606,  0.2358,  0.0457,  0.0222,  0.1757,  0.0467,  0.1326,  0.1835,\n",
      "         0.1353,  0.0520,  0.0453,  0.1705,  0.2755,  0.2602,  0.1462,  0.1014,\n",
      "         0.2639, -0.0541,  0.1442,  0.0567,  0.1135,  0.0803,  0.1518,  0.0820,\n",
      "         0.0272,  0.1667,  0.2975,  0.2278, -0.0543,  0.0420,  0.1709,  0.0315,\n",
      "         0.0447, -0.0285,  0.2089,  0.1074,  0.0415,  0.1535,  0.3441,  0.1460,\n",
      "         0.1284,  0.1185,  0.0797,  0.0356,  0.2102,  0.1073,  0.0219,  0.2276,\n",
      "         0.0758,  0.1167,  0.0344,  0.0487,  0.0817,  0.1225,  0.2249,  0.2106,\n",
      "        -0.0694,  0.0988,  0.3169,  0.1191, -0.0829,  0.3895,  0.2583, -0.0411,\n",
      "        -0.0753,  0.1466,  0.2168,  0.2596,  0.0525,  0.1096,  0.0292,  0.1003,\n",
      "         0.1762,  0.0836,  0.0649, -0.0481,  0.0525,  0.2846, -0.0323,  0.3638,\n",
      "         0.3021,  0.0987, -0.0126,  0.0841,  0.1931,  0.3430,  0.0221,  0.0756,\n",
      "        -0.0168,  0.3103,  0.4182,  0.2008,  0.1601,  0.2032,  0.0036,  0.1095,\n",
      "         0.2334, -0.1038,  0.0177,  0.1744,  0.0101,  0.1962,  0.1290,  0.1883,\n",
      "         0.0204,  0.0400,  0.1211,  0.0502,  0.2503,  0.0314,  0.2316,  0.1547,\n",
      "         0.1869,  0.0411,  0.1111,  0.1612,  0.0223,  0.0315,  0.1209,  0.0248,\n",
      "         0.0619,  0.0199,  0.1139,  0.0610,  0.0096, -0.0284,  0.1360,  0.0147,\n",
      "         0.2847, -0.0269,  0.1728,  0.2202,  0.2325,  0.0979, -0.0033,  0.0403,\n",
      "         0.0078,  0.0846,  0.2467,  0.2531,  0.0471,  0.0176, -0.0322,  0.2075,\n",
      "         0.1819,  0.0811,  0.2368,  0.1256,  0.0358,  0.1340, -0.0043,  0.1875,\n",
      "        -0.0479,  0.2370,  0.1308,  0.0277,  0.1522,  0.1318,  0.1965,  0.2212,\n",
      "         0.1359, -0.0287, -0.0196,  0.1407,  0.2170,  0.1654,  0.1754,  0.3156,\n",
      "         0.1575,  0.0672,  0.1095,  0.0212,  0.1146,  0.1521, -0.0333,  0.0184,\n",
      "         0.0773,  0.3003,  0.1716,  0.0315],\n",
      "       device='cuda:0', requires_grad=True)\n",
      "Parameter containing:\n",
      "tensor([[ 0.0024,  0.0400,  0.0181,  ...,  0.0614, -0.0460, -0.0353],\n",
      "        [ 0.0151,  0.0479,  0.0882,  ..., -0.0466,  0.0164, -0.0175],\n",
      "        [-0.0021, -0.0307,  0.1076,  ..., -0.0903,  0.1626,  0.1047],\n",
      "        ...,\n",
      "        [-0.0331, -0.0469,  0.0026,  ...,  0.0096,  0.0149,  0.0551],\n",
      "        [-0.0378, -0.0196,  0.0070,  ...,  0.0007,  0.0491,  0.0317],\n",
      "        [-0.1332,  0.1416, -0.1099,  ...,  0.0454,  0.0218,  0.0274]],\n",
      "       device='cuda:0', requires_grad=True)\n",
      "Parameter containing:\n",
      "tensor([ 0.0747, -0.0710,  0.2435,  0.0846,  0.1784,  0.1508, -0.0736,  0.0648,\n",
      "        -0.1714,  0.1364, -0.0517, -0.1388,  0.1424,  0.3725,  0.0989, -0.1591,\n",
      "        -0.1368, -0.0806,  0.1322, -0.0117, -0.2448,  0.1711,  0.0883,  0.0247,\n",
      "         0.0142, -0.1807,  0.0950, -0.0972, -0.2312,  0.1029,  0.2114,  0.0833,\n",
      "        -0.0733,  0.0989, -0.1240, -0.1817,  0.0648, -0.0511, -0.1366,  0.0260,\n",
      "         0.0842, -0.0049, -0.0092,  0.1033,  0.0471,  0.0183, -0.3285,  0.0133,\n",
      "        -0.0653,  0.0947,  0.0509, -0.0823,  0.1172, -0.0178, -0.0247,  0.1856,\n",
      "        -0.0777,  0.1471,  0.1404, -0.1056,  0.0460,  0.1093,  0.1209, -0.0529,\n",
      "         0.0346,  0.0808, -0.0072, -0.0589,  0.0259,  0.1628,  0.0977, -0.1130,\n",
      "         0.0056,  0.0626, -0.1834,  0.0921,  0.0784,  0.2590,  0.2521, -0.0695,\n",
      "         0.0824, -0.0619, -0.1315, -0.2218,  0.1596,  0.2002, -0.0834,  0.0849,\n",
      "         0.0406, -0.1485, -0.1683,  0.0308, -0.2136, -0.0226, -0.0064, -0.1696,\n",
      "        -0.1430, -0.2365,  0.0324,  0.0154,  0.1230, -0.1002,  0.0439, -0.0621,\n",
      "        -0.0727,  0.0956,  0.0638,  0.1072,  0.0219,  0.2482,  0.1108, -0.0743,\n",
      "        -0.1704,  0.0969,  0.1374,  0.0174, -0.0872, -0.0304,  0.1492,  0.0431,\n",
      "        -0.0522,  0.1488, -0.0533,  0.0992, -0.1191, -0.1606, -0.0754, -0.0042,\n",
      "        -0.1100,  0.1635,  0.0221, -0.1142, -0.0997,  0.0219,  0.0877, -0.1041,\n",
      "         0.2290, -0.0903, -0.0931, -0.1288,  0.1720,  0.0815,  0.2246, -0.1630,\n",
      "         0.0520, -0.1503, -0.0028, -0.1200,  0.0316,  0.1124,  0.0463,  0.0681,\n",
      "         0.0924, -0.1120, -0.0891,  0.1041, -0.0080, -0.0848, -0.1432, -0.0250,\n",
      "        -0.1625, -0.1042,  0.0958,  0.0028, -0.1049,  0.0178,  0.0942, -0.2504,\n",
      "        -0.2017,  0.0397, -0.0322, -0.1348,  0.0146,  0.0907, -0.3074,  0.2212,\n",
      "         0.0594,  0.0178,  0.0561,  0.1848,  0.0971,  0.2103, -0.0517, -0.2560,\n",
      "         0.0364,  0.1458,  0.1462, -0.1522, -0.1792,  0.1244, -0.0002,  0.0760,\n",
      "        -0.1824,  0.1832, -0.0162, -0.0089, -0.0434, -0.0356, -0.0497, -0.1259,\n",
      "         0.1762, -0.1399,  0.0307,  0.0326,  0.1320, -0.0745, -0.0235,  0.2636,\n",
      "         0.0115,  0.1639, -0.0814,  0.0196,  0.0190,  0.2175,  0.1035, -0.0567,\n",
      "        -0.1826, -0.0761,  0.0319, -0.0057, -0.1088, -0.0337,  0.0559, -0.0833,\n",
      "         0.0987, -0.2687,  0.0564,  0.0881, -0.0143,  0.0328,  0.0128,  0.1299,\n",
      "         0.0667, -0.1339,  0.0077, -0.0527, -0.0070, -0.0709, -0.1093, -0.0690,\n",
      "        -0.1134,  0.0285, -0.0546,  0.1687,  0.0143, -0.0257, -0.1269,  0.0568,\n",
      "         0.0322,  0.0554, -0.1543,  0.0577, -0.0935, -0.2038, -0.1355,  0.0469,\n",
      "         0.0020, -0.0737,  0.0573, -0.2379,  0.0539, -0.2469,  0.1397,  0.2742,\n",
      "         0.0980,  0.1172, -0.0467, -0.0338, -0.0700,  0.1649,  0.1347,  0.0241,\n",
      "        -0.1286, -0.1251, -0.1175,  0.0508, -0.0528,  0.0540,  0.0499,  0.0942,\n",
      "         0.0244, -0.0910,  0.0274, -0.0897,  0.1351,  0.0793,  0.0551,  0.1933,\n",
      "        -0.0935, -0.0609,  0.0117, -0.0443, -0.0468,  0.0804, -0.1217,  0.0797,\n",
      "         0.0742, -0.3820, -0.0143, -0.0687,  0.3023,  0.1278,  0.0539, -0.1615,\n",
      "         0.1420, -0.0515, -0.1678,  0.0538, -0.0478,  0.4357, -0.0266, -0.0703,\n",
      "         0.1608,  0.1855,  0.1425, -0.0906, -0.1493,  0.0267,  0.0151, -0.1858,\n",
      "        -0.0647, -0.0650,  0.2783, -0.2030, -0.1180, -0.1994,  0.0915,  0.1877,\n",
      "        -0.1824, -0.0136,  0.1717,  0.0103, -0.0605,  0.0178, -0.0593, -0.0336,\n",
      "         0.0713, -0.1570,  0.0655, -0.2215,  0.1087,  0.0294,  0.0199, -0.0140,\n",
      "        -0.0790, -0.1371, -0.0605, -0.1981,  0.1940,  0.0174,  0.0254,  0.2445,\n",
      "         0.1152, -0.0652, -0.0829,  0.1093, -0.2015,  0.0715,  0.0352,  0.0364,\n",
      "         0.1274, -0.0584,  0.2430,  0.1771,  0.0760,  0.1389, -0.0810, -0.0263,\n",
      "         0.0201,  0.0169,  0.0144, -0.1808, -0.0337,  0.1242, -0.0198, -0.0975,\n",
      "         0.1032,  0.0964, -0.0218,  0.0511, -0.0322,  0.0291, -0.0560, -0.3692,\n",
      "         0.2345,  0.0864,  0.0734,  0.0003,  0.0949,  0.1920,  0.0838,  0.0513,\n",
      "        -0.1117,  0.0602,  0.0856, -0.1398, -0.0605, -0.0426,  0.1770, -0.0897,\n",
      "         0.1444, -0.0905,  0.2147,  0.0433,  0.1044, -0.0025, -0.2103, -0.0819,\n",
      "        -0.3304,  0.1200, -0.0916,  0.0397, -0.0583,  0.0975,  0.3609, -0.0210,\n",
      "        -0.1476, -0.1878, -0.0734, -0.1550, -0.1798, -0.0026,  0.1393, -0.0042,\n",
      "         0.0614, -0.0442, -0.0024, -0.0990,  0.0032,  0.1095,  0.1077,  0.1487,\n",
      "         0.0067, -0.1949,  0.0345, -0.0079,  0.1127, -0.1864, -0.3514, -0.1770,\n",
      "        -0.0443, -0.0914,  0.2051,  0.1000,  0.1252, -0.2595, -0.1880,  0.0358,\n",
      "        -0.0396,  0.1787, -0.0686,  0.0821,  0.0642, -0.2740, -0.2777,  0.0026,\n",
      "        -0.0401,  0.1681,  0.0581, -0.0219,  0.0918,  0.0420,  0.3825, -0.0586,\n",
      "        -0.0216, -0.0251, -0.0811, -0.1040, -0.1219, -0.1182,  0.0399, -0.1948,\n",
      "        -0.1938, -0.1721, -0.1756, -0.1573,  0.0481,  0.0513, -0.0453, -0.1546,\n",
      "         0.2091,  0.1900,  0.0279, -0.1446,  0.0505,  0.2280,  0.0669,  0.0654,\n",
      "        -0.1459,  0.0741, -0.2276, -0.1833, -0.1585,  0.0577, -0.1677, -0.0568,\n",
      "        -0.0570, -0.0589,  0.1123, -0.2275],\n",
      "       device='cuda:0', requires_grad=True)\n"
     ]
    }
   ],
   "source": [
    "for p in lstm.parameters():\n",
    "    print(p)"
   ]
  },
  {
   "cell_type": "code",
   "execution_count": 17,
   "metadata": {
    "colab": {},
    "colab_type": "code",
    "id": "oi445Pl03qrW"
   },
   "outputs": [],
   "source": [
    "torch.save(lstm.state_dict(), 'lstm.torch')"
   ]
  },
  {
   "cell_type": "code",
   "execution_count": 19,
   "metadata": {
    "colab": {
     "base_uri": "https://localhost:8080/",
     "height": 212
    },
    "colab_type": "code",
    "executionInfo": {
     "elapsed": 233729,
     "status": "ok",
     "timestamp": 1535330146686,
     "user": {
      "displayName": "Rudy Gilman",
      "photoUrl": "https://lh3.googleusercontent.com/a/default-user=s128",
      "userId": "112478309618698198298"
     },
     "user_tz": 360
    },
    "id": "6o-eyZb0ROKJ",
    "outputId": "d8bbacf5-434d-434b-c0cd-6a460cf5882e"
   },
   "outputs": [
    {
     "data": {
      "image/png": "[encoded data removed]",
      "text/plain": [
       "<matplotlib.figure.Figure at 0x220b3e259e8>"
      ]
     },
     "metadata": {},
     "output_type": "display_data"
    }
   ],
   "source": [
    "# Predicting the future. Feeding in a single item from a single seq.\n",
    "\n",
    "N_SAMPLES = 5; N_GEN = 300\n",
    "\n",
    "with torch.no_grad():\n",
    "    \n",
    "    lstm.init_hidden(1) # always start sequence with fresh hidden state\n",
    "    lstm.eval()\n",
    "    \n",
    "    sample_seq_pred = []\n",
    "\n",
    "    x = data_mult_dim[0][0] # init w random value from original dataset\n",
    "\n",
    "    sample_ix = 1\n",
    "    gen_z = []\n",
    "    for i in range(N_GEN): \n",
    "\n",
    "        x = x.view(1, 1, N_IN)#.cuda() # padding to fit into lstm expectation\n",
    "        mdn_coefs = lstm(x) # feeding in one at a time from each sequence, marching side by side\n",
    "\n",
    "        # Akward setup for generation. First, splitting a pred sample for each dim bc that's how\n",
    "        # old sampling apparatus works, then zipping them back together bc we need to feed them back into \n",
    "        # the model. Should 1) fix sampling apparatus to take in what we've got. 2) allow model to init \n",
    "        # hidden state with variable N bc when generating there's no need to output pred for EACH seq. \n",
    "        next_z = []\n",
    "        for i in range(N_IN):\n",
    "            # splitting mdn coefs into two sets, one for each dim, to feed into old sampling apparatus\n",
    "            pi_0 = mdn_coefs[\"pi\"][0,0,:,i]; # first item in first seq, take all gauss and first dim, then second dim.\n",
    "            mu_0 = mdn_coefs[\"mu\"][0,0,:,i]; \n",
    "            sigma_0 = mdn_coefs[\"sigma\"][0,0,:,i]; \n",
    "\n",
    "            # getting sampling of preds for single item in sequence, for first seq in batch. Only for FIRST DIM.\n",
    "            s0 = sample_preds(pi_0.view(1,N_GAUSSIANS),\n",
    "                     sigma_0.view(1,N_GAUSSIANS), \n",
    "                     mu_0.view(1,N_GAUSSIANS), \n",
    "                     samples=N_SAMPLES)\n",
    "\n",
    "\n",
    "            next_z.append(s0[0]) # Using FIRST SAMPLE from each dim to construct pt to pass back in to model.\n",
    "        \n",
    "        gen_z.append(next_z)\n",
    "        # plotting a single sample for a single dim for a single seq.\n",
    "        sample_seq_pred.append(next_z[0].numpy()) \n",
    "        # zipping together again and duplicating to fill out expected N. \n",
    "        x = torch.Tensor([next_z]) \n",
    "\n",
    "\n",
    "# Plotting a random z component over time\n",
    "plt.figure(figsize=(20,3))\n",
    "\n",
    "# all models\n",
    "plt.plot(np.arange(len(sample_seq_pred)), sample_seq_pred, 'go', alpha=0.2, markerfacecolor='green')\n",
    "\n",
    "plt.show()\n",
    "\n",
    "#torch.save(torch.Tensor(gen_z), open('gen_z_seq.pt', 'wb'))"
   ]
  },
  {
   "cell_type": "code",
   "execution_count": 14,
   "metadata": {
    "colab": {},
    "colab_type": "code",
    "id": "_Kvgyx-tRTyZ"
   },
   "outputs": [],
   "source": [
    "from torch.distributions import Normal\n",
    "\n",
    "# from sonic version\n",
    "def mdn_loss_function(out_pi, out_sigma, out_mu, y):\n",
    "    \"\"\"\n",
    "    Mixed Density Network loss function, see : \n",
    "    https://mikedusenberry.com/mixture-density-networks\n",
    "    \"\"\"\n",
    "    EPSILON = 1e-6\n",
    "\n",
    "    result = Normal(loc=out_mu, scale=out_sigma)\n",
    "    result = torch.exp(result.log_prob(y))\n",
    "    result = torch.sum(result * out_pi, dim=2) #changed this\n",
    "    result = -torch.log(EPSILON + result)\n",
    "    return torch.mean(result)\n",
    "\n",
    "\n",
    "# from dusenberry\n",
    "# takes in params for a single dim. for single item from single seq.\n",
    "def sample_preds(pi, sigmasq, mu, samples=10): # sampling for a single pt\n",
    "  # rather than sample the single conditional mode at each\n",
    "  # point, we could sample many points from the GMM produced\n",
    "  # by the model for each point, yielding a dense set of\n",
    "  # predictions\n",
    "  N, K = pi.shape\n",
    "  _, KT = mu.shape\n",
    "  T = int(KT / K)\n",
    "  #out = torch.zeros(N, samples, T)  # s samples per example\n",
    "  out = torch.zeros(samples)  # s samples per example\n",
    "  for i in range(N): \n",
    "    for j in range(samples):\n",
    "      # pi must sum to 1, thus we can sample from a uniform\n",
    "      # distribution, then transform that to select the component\n",
    "      u = np.random.uniform()  # sample from [0, 1)\n",
    "      # split [0, 1] into k segments: [0, pi[0]), [pi[0], pi[1]), ..., [pi[K-1], pi[K])\n",
    "      # then determine the segment `u` that falls into and sample from that component\n",
    "      prob_sum = 0\n",
    "      for k in range(K):\n",
    "        prob_sum += pi.data[i, k]\n",
    "        if u < prob_sum:\n",
    "          # sample from the kth component\n",
    "          for t in range(T):\n",
    "            sample = np.random.normal(mu.data[i, k*T+t], sigmasq.data[i, k]) # this used to have sqrt\n",
    "            #sample = np.random.normal(mu.data[i, k*T+t], 0)\n",
    "            #out[i, j, t] = sample\n",
    "            out[j] = sample\n",
    "          break\n",
    "  return out"
   ]
  },
  {
   "cell_type": "code",
   "execution_count": 0,
   "metadata": {
    "colab": {},
    "colab_type": "code",
    "id": "v8mK23p_bXM0"
   },
   "outputs": [],
   "source": []
  }
 ],
 "metadata": {
  "accelerator": "GPU",
  "colab": {
   "collapsed_sections": [],
   "name": "RNN, vae integration.ipynb",
   "provenance": [
    {
     "file_id": "1LVpckSmc8_6v9wX32VVw7ysRdHtYjoqz",
     "timestamp": 1535318155393
    }
   ],
   "version": "0.3.2"
  },
  "kernelspec": {
   "display_name": "Python 3",
   "language": "python",
   "name": "python3"
  },
  "language_info": {
   "codemirror_mode": {
    "name": "ipython",
    "version": 3
   },
   "file_extension": ".py",
   "mimetype": "text/x-python",
   "name": "python",
   "nbconvert_exporter": "python",
   "pygments_lexer": "ipython3",
   "version": "3.6.4"
  }
 },
 "nbformat": 4,
 "nbformat_minor": 1
}
