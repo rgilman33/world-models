{
 "cells": [
  {
   "cell_type": "code",
   "execution_count": 10,
   "metadata": {
    "colab": {
     "base_uri": "https://localhost:8080/",
     "height": 34
    },
    "colab_type": "code",
    "executionInfo": {
     "elapsed": 915,
     "status": "ok",
     "timestamp": 1535554580317,
     "user": {
      "displayName": "Rudy Gilman",
      "photoUrl": "https://lh3.googleusercontent.com/a/default-user=s128",
      "userId": "112478309618698198298"
     },
     "user_tz": 360
    },
    "id": "pIyklh_6qp16",
    "outputId": "fcf0334b-7e00-4297-dcd7-ee6381c5a814"
   },
   "outputs": [
    {
     "name": "stdout",
     "output_type": "stream",
     "text": [
      "3.4.2\n"
     ]
    }
   ],
   "source": [
    "# This works. Processes videos in np arrays, which we can save to folder or use directly\n",
    "\n",
    "import cv2, os\n",
    "print(cv2.__version__)\n",
    "import matplotlib.pyplot as plt\n",
    "\n",
    "import torch\n",
    "import torch.nn as nn\n",
    "import torch.nn.functional as F\n",
    "from torch.autograd import Variable\n",
    "\n",
    "import torchvision\n",
    "import pandas as pd \n",
    "from torchvision import datasets\n",
    "from torchvision import transforms\n",
    "from torchvision.utils import save_image\n",
    "\n",
    "from IPython.core.display import Image, display\n",
    "\n",
    "import numpy as np"
   ]
  },
  {
   "cell_type": "code",
   "execution_count": 2,
   "metadata": {
    "colab": {},
    "colab_type": "code",
    "id": "5E7W6jsPqp19"
   },
   "outputs": [],
   "source": [
    "#os.mkdir(\"video_frames/train\")\n",
    "vid_id = \"DJI_0007_lr\"#'2018_09_08_15_08_54'\n",
    "\n",
    "os.mkdir(\"../../videos/\"+vid_id)\n",
    "os.mkdir(\"../../videos/\"+vid_id+\"/train/\")"
   ]
  },
  {
   "cell_type": "code",
   "execution_count": 3,
   "metadata": {
    "colab": {},
    "colab_type": "code",
    "id": "CCY0n_5c8fcr"
   },
   "outputs": [],
   "source": [
    "def format_ix(ix): # Takes in int and returns str padded w 0s. Want to keep files in order. Good up to 99k.\n",
    "    return ('0000'+str(ix))[-5:]"
   ]
  },
  {
   "cell_type": "code",
   "execution_count": 5,
   "metadata": {
    "colab": {},
    "colab_type": "code",
    "id": "lZZ1jCDPqp2B"
   },
   "outputs": [],
   "source": [
    "#vid = \"Drone racing - First Person View (FPV)-bR4Gq9qfpnM.mp4\"\n",
    "vid = \"../../videos/\"+vid_id+\".MP4\"\n",
    "vidcap = cv2.VideoCapture(vid)\n",
    "success,image = vidcap.read() # image is np array\n",
    "\n",
    "first_ts = vidcap.get(cv2.CAP_PROP_POS_MSEC)\n",
    "timestamps = [first_ts]\n",
    "\n",
    "count = 0\n",
    "success = True\n",
    "while success:\n",
    "    cv2.imwrite(\"../../videos/\"+vid_id+\"/train/frame\"+ format_ix(count) +\".jpg\", image)     # save frame as JPEG file\n",
    "    success,image = vidcap.read()\n",
    "    if success: timestamps.append(vidcap.get(cv2.CAP_PROP_POS_MSEC))\n",
    "    count += 1"
   ]
  },
  {
   "cell_type": "code",
   "execution_count": 17,
   "metadata": {},
   "outputs": [
    {
     "name": "stdout",
     "output_type": "stream",
     "text": [
      "   timestamp\n",
      "0         33\n",
      "1         67\n",
      "2        100\n",
      "3        133\n",
      "4        167\n"
     ]
    }
   ],
   "source": [
    "pd_ts = pd.DataFrame({\"timestamp\":np.round(timestamps, 0).astype(int)}); print(pd_ts.head())\n",
    "pd_ts.to_csv(vid_id+\"_frame_timestamps.csv\", index=False)"
   ]
  },
  {
   "cell_type": "code",
   "execution_count": 37,
   "metadata": {
    "colab": {
     "base_uri": "https://localhost:8080/",
     "height": 34
    },
    "colab_type": "code",
    "executionInfo": {
     "elapsed": 677,
     "status": "ok",
     "timestamp": 1535315953607,
     "user": {
      "displayName": "Rudy Gilman",
      "photoUrl": "https://lh3.googleusercontent.com/a/default-user=s128",
      "userId": "112478309618698198298"
     },
     "user_tz": 360
    },
    "id": "wTSOIm1wsC9W",
    "outputId": "2cef54ce-4034-44d9-cc83-017381a3be0e"
   },
   "outputs": [
    {
     "data": {
      "text/plain": [
       "2969"
      ]
     },
     "execution_count": 37,
     "metadata": {
      "tags": []
     },
     "output_type": "execute_result"
    }
   ],
   "source": [
    "#\n",
    "transform = transforms.Compose([\n",
    "    transforms.Resize((128)),\n",
    "    #transforms.RandomCrop(64, pad_if_needed=True),\n",
    "    transforms.CenterCrop(128),\n",
    "    transforms.ToTensor(), \n",
    "])\n",
    "\n",
    "# Obnoxious. Images have to be within folder within root\n",
    "dataset = datasets.ImageFolder(root='./drone', transform=transform)\n",
    "len(dataset.imgs)"
   ]
  },
  {
   "cell_type": "code",
   "execution_count": 39,
   "metadata": {
    "colab": {},
    "colab_type": "code",
    "id": "_jD14TuLvLsm"
   },
   "outputs": [
    {
     "data": {
      "text/plain": [
       "tensor([[-2.9886, -0.2219]])"
      ]
     },
     "execution_count": 39,
     "metadata": {},
     "output_type": "execute_result"
    }
   ],
   "source": [
    "a = torch.randn(1,2); \n"
   ]
  },
  {
   "cell_type": "code",
   "execution_count": 0,
   "metadata": {
    "colab": {},
    "colab_type": "code",
    "id": "9-AvzvFT8T-Q"
   },
   "outputs": [],
   "source": [
    "sample = dataset[2968][0].data.cpu()\n",
    "save_image(sample.data.cpu(), 'sample_image.png')\n",
    "display(Image('sample_image.png', width=300, unconfined=True))\n",
    "display(Image('drone/train/frame2968.jpg', width=300, unconfined=True))"
   ]
  },
  {
   "cell_type": "code",
   "execution_count": 0,
   "metadata": {
    "colab": {},
    "colab_type": "code",
    "id": "OmvLPGHpPNcK"
   },
   "outputs": [],
   "source": [
    "# Stitching frames back together into video\n",
    "\n",
    "img1 = cv2.imread('drone/train/frame100.jpg') # this is a np array\n",
    "height , width , layers =  img1.shape\n",
    "fps = 30\n",
    "\n",
    "video = cv2.VideoWriter('drone.avi', cv2.VideoWriter_fourcc(*\"MJPG\"), fps, (width,height))\n",
    "\n",
    "for i in range(count-1):\n",
    "    img = cv2.imread('drone/train/frame'+str(i)+'.jpg')\n",
    "    video.write(img)\n",
    "    \n",
    "cv2.destroyAllWindows()\n",
    "video.release()"
   ]
  },
  {
   "cell_type": "code",
   "execution_count": 19,
   "metadata": {
    "colab": {
     "base_uri": "https://localhost:8080/",
     "height": 34
    },
    "colab_type": "code",
    "executionInfo": {
     "elapsed": 634,
     "status": "ok",
     "timestamp": 1535314964196,
     "user": {
      "displayName": "Rudy Gilman",
      "photoUrl": "https://lh3.googleusercontent.com/a/default-user=s128",
      "userId": "112478309618698198298"
     },
     "user_tz": 360
    },
    "id": "QiRa6rHSNdmR",
    "outputId": "d9879cea-dbbe-4179-fc0d-8a93116ab940"
   },
   "outputs": [
    {
     "data": {
      "text/plain": [
       "(720, 1280, 3)"
      ]
     },
     "execution_count": 19,
     "metadata": {
      "tags": []
     },
     "output_type": "execute_result"
    }
   ],
   "source": [
    "img1.shape"
   ]
  },
  {
   "cell_type": "code",
   "execution_count": 0,
   "metadata": {
    "colab": {},
    "colab_type": "code",
    "id": "LFxH9RnFND3g"
   },
   "outputs": [],
   "source": [
    "from google.colab import files\n",
    "\n",
    "files.download('drone.avi')  # from colab to browser download"
   ]
  },
  {
   "cell_type": "code",
   "execution_count": 0,
   "metadata": {
    "colab": {},
    "colab_type": "code",
    "id": "yibYK5BuNYR_"
   },
   "outputs": [],
   "source": []
  },
  {
   "cell_type": "code",
   "execution_count": 0,
   "metadata": {
    "colab": {},
    "colab_type": "code",
    "id": "GLk1UcVQCZ96"
   },
   "outputs": [],
   "source": [
    "# Stitching frames back together into video\n",
    "\n",
    "img1 = cv2.imread('drone/train/frame100.jpg')\n",
    "img2 = cv2.imread('drone/train/frame101.jpg')\n",
    "img3 = cv2.imread('drone/train/frame102.jpg')\n",
    "\n",
    "height , width , layers =  img1.shape\n",
    "\n",
    "video = cv2.VideoWriter('video.avi', cv2.VideoWriter_fourcc(*\"MJPG\"),1,(width,height))\n",
    "\n",
    "video.write(img1)\n",
    "video.write(img2)\n",
    "video.write(img3)\n",
    "\n",
    "cv2.destroyAllWindows()\n",
    "video.release()\n",
    "\n",
    "writer = cv2.VideoWriter(\"output.avi\", cv2.VideoWriter_fourcc(*\"MJPG\"), 30,(640,480))\n",
    "for frame in range(10):\n",
    "    writer.write(np.random.randint(0, 255, (480,640,3)).astype('uint8'))\n",
    "writer.release()"
   ]
  },
  {
   "cell_type": "code",
   "execution_count": null,
   "metadata": {},
   "outputs": [],
   "source": []
  },
  {
   "cell_type": "code",
   "execution_count": null,
   "metadata": {},
   "outputs": [],
   "source": []
  },
  {
   "cell_type": "code",
   "execution_count": null,
   "metadata": {},
   "outputs": [],
   "source": []
  },
  {
   "cell_type": "code",
   "execution_count": null,
   "metadata": {},
   "outputs": [],
   "source": []
  },
  {
   "cell_type": "code",
   "execution_count": null,
   "metadata": {},
   "outputs": [],
   "source": []
  },
  {
   "cell_type": "code",
   "execution_count": 4,
   "metadata": {
    "colab": {
     "base_uri": "https://localhost:8080/",
     "height": 118
    },
    "colab_type": "code",
    "executionInfo": {
     "elapsed": 5208,
     "status": "ok",
     "timestamp": 1535554589623,
     "user": {
      "displayName": "Rudy Gilman",
      "photoUrl": "https://lh3.googleusercontent.com/a/default-user=s128",
      "userId": "112478309618698198298"
     },
     "user_tz": 360
    },
    "id": "hsEtwpFh_sPU",
    "outputId": "08307559-d4f0-481a-9bba-a22d1af8ec5f"
   },
   "outputs": [
    {
     "name": "stdout",
     "output_type": "stream",
     "text": [
      "  % Total    % Received % Xferd  Average Speed   Time    Time     Time  Current\n",
      "                                 Dload  Upload   Total   Spent    Left  Speed\n",
      "  0     3    0     0    0     0      0      0 --:--:-- --:--:-- --:--:--     0\n",
      "  0     3    0     0    0     0      0      0 --:--:--  0:00:01 --:--:--     0\n",
      "100   599    0   599    0     0    446      0 --:--:--  0:00:01 --:--:--   446\n",
      "100 1655k  100 1655k    0     0   477k      0  0:00:03  0:00:03 --:--:-- 1027k\n"
     ]
    }
   ],
   "source": [
    "# Dowload youtube-dl\n",
    "\n",
    "!sudo curl -L https://yt-dl.org/downloads/latest/youtube-dl -o /usr/local/bin/youtube-dl\n",
    "!sudo chmod a+rx /usr/local/bin/youtube-dl"
   ]
  },
  {
   "cell_type": "code",
   "execution_count": 5,
   "metadata": {
    "colab": {
     "base_uri": "https://localhost:8080/",
     "height": 84
    },
    "colab_type": "code",
    "executionInfo": {
     "elapsed": 5309,
     "status": "ok",
     "timestamp": 1535554594998,
     "user": {
      "displayName": "Rudy Gilman",
      "photoUrl": "https://lh3.googleusercontent.com/a/default-user=s128",
      "userId": "112478309618698198298"
     },
     "user_tz": 360
    },
    "id": "SIJH6zdCq2Fg",
    "outputId": "6161de63-b95a-440e-a674-98ff9627fe38"
   },
   "outputs": [
    {
     "name": "stdout",
     "output_type": "stream",
     "text": [
      "[youtube] bR4Gq9qfpnM: Downloading webpage\n",
      "[youtube] bR4Gq9qfpnM: Downloading video info webpage\n",
      "[download] Destination: Drone racing - First Person View (FPV)-bR4Gq9qfpnM.mp4\n",
      "\u001b[K[download] 100% of 24.48MiB in 00:0079MiB/s ETA 00:00known ETA\n"
     ]
    }
   ],
   "source": [
    "# download clip\n",
    "!youtube-dl https://www.youtube.com/watch?v=bR4Gq9qfpnM"
   ]
  }
 ],
 "metadata": {
  "accelerator": "GPU",
  "colab": {
   "collapsed_sections": [],
   "name": "Video processing.ipynb",
   "provenance": [],
   "version": "0.3.2"
  },
  "kernelspec": {
   "display_name": "Python 3",
   "language": "python",
   "name": "python3"
  },
  "language_info": {
   "codemirror_mode": {
    "name": "ipython",
    "version": 3
   },
   "file_extension": ".py",
   "mimetype": "text/x-python",
   "name": "python",
   "nbconvert_exporter": "python",
   "pygments_lexer": "ipython3",
   "version": "3.5.3"
  }
 },
 "nbformat": 4,
 "nbformat_minor": 1
}
